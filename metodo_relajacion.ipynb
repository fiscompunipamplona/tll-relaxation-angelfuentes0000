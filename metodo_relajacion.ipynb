{
 "cells": [
  {
   "cell_type": "markdown",
   "metadata": {},
   "source": [
    "# metodo de relajacion"
   ]
  },
  {
   "cell_type": "markdown",
   "metadata": {},
   "source": [
    "vamos  a ver un programa que nos explica la metodologia del metodo de relajacion,se supone un punto inical y sobre este se debe estimar la funcion de la cual queremos saber el punto al cual converge la misma "
   ]
  },
  {
   "cell_type": "code",
   "execution_count": 2,
   "metadata": {},
   "outputs": [],
   "source": [
    "from numpy import *#array, linspace,\n",
    "from math import *#sin, cos, pi, exp\n",
    "from pylab import plot, xlabel, ylabel, show\n"
   ]
  },
  {
   "cell_type": "code",
   "execution_count": 3,
   "metadata": {},
   "outputs": [],
   "source": [
    "#metodo de relajacion \n",
    "\n",
    "n= 100 # numero de pasos \n",
    "xi=0.5 # elejimos un punto inicial\n",
    "x=[] # llamamos un vector donde se almacenaran los valores nuevoss\n",
    "x.append (xi) \n",
    "for i in range(n): # ponemos a iterar sobre un N \n",
    "    \n",
    "# probamos con diferentes fucnciones \n",
    "    \n",
    "    #xi=2-exp(xi)\n",
    "    #xi=exp(1-xi**2)\n",
    "    #xi=sqrt(1-log(xi))\n",
    "    xi=0.5*(asin(xi-xi**2)) # elejimos una funcion y sobre esta enviamos en punto inicial xi\n",
    "    x.append (xi)\n",
    "    \n"
   ]
  },
  {
   "cell_type": "code",
   "execution_count": 4,
   "metadata": {},
   "outputs": [
    {
     "data": {
      "image/png": "[encoded data removed]",
      "text/plain": [
       "<matplotlib.figure.Figure at 0x7fcb163bb0b8>"
      ]
     },
     "metadata": {
      "needs_background": "light"
     },
     "output_type": "display_data"
    }
   ],
   "source": [
    "plot(x) # graficamos la funcion \n",
    "show ()"
   ]
  },
  {
   "cell_type": "code",
   "execution_count": null,
   "metadata": {},
   "outputs": [],
   "source": []
  }
 ],
 "metadata": {
  "kernelspec": {
   "display_name": "Python 3",
   "language": "python",
   "name": "python3"
  },
  "language_info": {
   "codemirror_mode": {
    "name": "ipython",
    "version": 3
   },
   "file_extension": ".py",
   "mimetype": "text/x-python",
   "name": "python",
   "nbconvert_exporter": "python",
   "pygments_lexer": "ipython3",
   "version": "3.6.8"
  }
 },
 "nbformat": 4,
 "nbformat_minor": 2
}
