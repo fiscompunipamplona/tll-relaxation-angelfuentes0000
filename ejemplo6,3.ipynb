{
 "cells": [
  {
   "cell_type": "markdown",
   "metadata": {},
   "source": [
    "# ejemplo 6.3 (metodo de relajacion)\n"
   ]
  },
  {
   "cell_type": "markdown",
   "metadata": {},
   "source": [
    "ferromagnetismo\n",
    "\n",
    "en la teoria de campo de medios ferromagneticos la fuerza de magnetizacion de un material ferromagnetico como hierro depende de la temperatura T de acuerdo con la formula \n",
    "\n",
    "\n",
    "\\begin{equation}\n",
    " M=\\mu \\tanh \\frac{JM}{k_{b} T} \n",
    "\\end{equation}\n",
    "\n",
    "donde $\\mu$ is un momento magnetico, J es la comstante de acoplamiento, y $k_{b}$ es la constante de boltzman. podemos pensar en una simplificacion de la forma \n",
    "\n",
    "\\begin{equation}\n",
    "m=\\frac{M}{\\mu } \n",
    "\\end{equation}\n",
    "\n",
    "\\begin{equation}\n",
    "C=\\frac{\\mu J}{k_{b}}\n",
    "\\end{equation}\n",
    "\n",
    "y nos queda \n",
    "\n",
    "\\begin{equation}\\label{eq:ej}\n",
    "m= \\tanh \\frac{Cm}{T} \n",
    "\\end{equation}\n",
    "\n",
    "\n"
   ]
  },
  {
   "cell_type": "markdown",
   "metadata": {},
   "source": [
    "esta claro que esta ecuacion siempre tiene una solucion para m=0, lo que implica un material que no esta magnetizado en absoluto pero existe otra solucion?,podemos encontrarla usando este codigo , supongamos C=1 por simplicidad y busquemos soluciones para T  \n",
    "el error lo podemos calcular de la sigueiente manera \n",
    "\n",
    "\\begin{equation}\\label{eq:ej}\n",
    "\\epsilon '=\\frac{m-m'}{1-T \\cosh^2 (\\frac{m}{T}) }\n",
    "\\end{equation}\n"
   ]
  },
  {
   "cell_type": "code",
   "execution_count": 10,
   "metadata": {},
   "outputs": [],
   "source": [
    "from numpy import *#array, linspace,\n",
    "from math import *#sin, cos, pi, exp\n",
    "from pylab import plot, xlabel, ylabel, show,ylim\n"
   ]
  },
  {
   "cell_type": "code",
   "execution_count": 11,
   "metadata": {},
   "outputs": [],
   "source": [
    "# contantes \n",
    "Tmax=2.0 #temperatura inicial\n",
    "points=1000 # numero de divisiones\n",
    "accuracy=1e-6 # porcentaje de tolerancia"
   ]
  },
  {
   "cell_type": "code",
   "execution_count": 12,
   "metadata": {},
   "outputs": [],
   "source": [
    "# configurar las listas que se van a pasar \n",
    "y= []\n",
    "temp = linspace(0.01,Tmax,points)"
   ]
  },
  {
   "cell_type": "code",
   "execution_count": 13,
   "metadata": {},
   "outputs": [],
   "source": [
    "#temperatura bucle principal\n",
    "for T in temp :\n",
    "    m1 = 1.0\n",
    "    error = 1.0\n",
    "    #bucle donde se calcula el error mas pequeño \n",
    "    while error> accuracy:\n",
    "        m1,m2 = tanh(m1/T),m1 # reasigma los valores de m1 y m2  \n",
    "        error = abs((m1-m2)/(1-T*cosh(m2/T)**2))\n",
    "    y.append(m1)\n"
   ]
  },
  {
   "cell_type": "code",
   "execution_count": 14,
   "metadata": {},
   "outputs": [
    {
     "data": {
      "image/png": "[encoded data removed]",
      "text/plain": [
       "<matplotlib.figure.Figure at 0x7f35b422c0b8>"
      ]
     },
     "metadata": {
      "needs_background": "light"
     },
     "output_type": "display_data"
    }
   ],
   "source": [
    "# construccion de la grafica \n",
    "plot(temp,y)\n",
    "ylim(-0.1,1.1)\n",
    "xlabel(\"temperatura\")\n",
    "ylabel(\"magnetizacion\")\n",
    "show()"
   ]
  },
  {
   "cell_type": "code",
   "execution_count": null,
   "metadata": {},
   "outputs": [],
   "source": []
  },
  {
   "cell_type": "code",
   "execution_count": null,
   "metadata": {},
   "outputs": [],
   "source": []
  }
 ],
 "metadata": {
  "kernelspec": {
   "display_name": "Python 3",
   "language": "python",
   "name": "python3"
  },
  "language_info": {
   "codemirror_mode": {
    "name": "ipython",
    "version": 3
   },
   "file_extension": ".py",
   "mimetype": "text/x-python",
   "name": "python",
   "nbconvert_exporter": "python",
   "pygments_lexer": "ipython3",
   "version": "3.6.8"
  }
 },
 "nbformat": 4,
 "nbformat_minor": 2
}
