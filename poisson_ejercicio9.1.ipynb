{
 "cells": [
  {
   "cell_type": "markdown",
   "metadata": {},
   "source": [
    "# problema 9.2"
   ]
  },
  {
   "cell_type": "markdown",
   "metadata": {},
   "source": [
    "escriba un programa o modifique el ejemplo de la ecuacion de laplace para resolver la ecuacion de poisson para una placa rectangular con dos cargas, trabaje con las unidades $\\varepsilon _{0}=1$ y continue hasta que su solucion de potencial electrico cambie a menos de 10e-6 V vaya en cada punto de la cuadricula "
   ]
  },
  {
   "cell_type": "markdown",
   "metadata": {},
   "source": [
    "la ecuacion que debemos emplear queda de la forma \n",
    "\\begin{equation}\n",
    "\\phi (x,y)=\\frac{1}{4}\\left [ \\phi (x+a,y)+\\phi (x-a,y) +\\phi (x,y+a)+\\phi (x,y+a)\\right ]+\\frac{a^{2} \\rho (x,y)}{4\\varepsilon _{o}}\n",
    "\\end{equation}"
   ]
  },
  {
   "cell_type": "markdown",
   "metadata": {},
   "source": [
    "debemos tener en cuenta que para realizar este programa escogimos una matriz para las cargas la cual debe estar oscilando para $\\rho$ "
   ]
  },
  {
   "cell_type": "code",
   "execution_count": 1,
   "metadata": {},
   "outputs": [
    {
     "data": {
      "text/html": [
       "<div id=\"glowscript\" class=\"glowscript\"></div>"
      ],
      "text/plain": [
       "<IPython.core.display.HTML object>"
      ]
     },
     "metadata": {},
     "output_type": "display_data"
    },
    {
     "data": {
      "application/javascript": [
       "if (typeof Jupyter !== \"undefined\") { window.__context = { glowscript_container: $(\"#glowscript\").removeAttr(\"id\")};}else{ element.textContent = ' ';}"
      ],
      "text/plain": [
       "<IPython.core.display.Javascript object>"
      ]
     },
     "metadata": {},
     "output_type": "display_data"
    }
   ],
   "source": [
    "from scipy import array, arange, pi, sin, cos\n",
    "from pylab import plot, show, xlabel, ylabel, imshow, gray, inferno \n",
    "from vpython import cylinder, vector, sphere, rate\n",
    "from numpy import empty,zeros,max\n"
   ]
  },
  {
   "cell_type": "code",
   "execution_count": 2,
   "metadata": {},
   "outputs": [],
   "source": [
    "\n",
    "# cosntantes \n",
    "M= 100 # \n",
    "V= 5.0 # voltaje de la cargas\n",
    "target= 1e-2 # la tolerancia \n",
    "# crear arreglos y evaluar potencial \n",
    "phi= zeros([M+1,M+1],float ) # matriz inicial define la caja rectangualar \n",
    "rho= zeros([M+1,M+1],float ) # definimos una matriz para las cargas puntuales \n",
    "rho[60:80,20:40]=V  # carga uno en la posicion definida\n",
    "rho[20:40,60:80]=-V # carga dos en la posicion definida\n",
    "phiprime=empty([M+1,M+1],float ) # matriz donde se guardan los valores nuevos \n",
    "\n",
    "delta=1.0 # inicializa el contador \n",
    "a=1 \n",
    "ep0=1    "
   ]
  },
  {
   "cell_type": "code",
   "execution_count": 3,
   "metadata": {},
   "outputs": [
    {
     "data": {
      "image/png": "[encoded data removed]",
      "text/plain": [
       "<matplotlib.figure.Figure at 0x7efe3096b978>"
      ]
     },
     "metadata": {
      "needs_background": "light"
     },
     "output_type": "display_data"
    }
   ],
   "source": [
    "\n",
    "while delta>target:\n",
    "    \n",
    "        #calcular los nuevos valores del potencial \n",
    "    for i in range(M+1):\n",
    "         for j in range(M+1):\n",
    "            if i==0 or i==M or j==0 or  j==M:  # algunas condiciones iniciales \n",
    "                phiprime[i,j]=phi[i,j]\n",
    "            else: # la funcion que definimos  de poisson\n",
    "                phiprime[i,j]=((phi[i+a,j]+phi[i-a,j]+phi[i,j+a]+phi[i,j-a])/4 )+ (a**2/4*ep0)*rho[i,j]\n",
    "                \n",
    "    delta=max(abs(phi-phiprime)) # comparador para ver si ya termina el proceso \n",
    "    phi,phiprime=phiprime,phi # cambios de posiciones en las variables \n",
    "                       \n",
    "# plotear                     \n",
    "imshow(phi)\n",
    "inferno()\n",
    "show()                \n",
    "    "
   ]
  },
  {
   "cell_type": "markdown",
   "metadata": {},
   "source": [
    "ahora vemos como se grafico el potencial en la caja rectangular partiendo de los condiciones de cargas y la ecuacion de poisson los colores de deben a que escojimos una carga positiva y otra negativa "
   ]
  }
 ],
 "metadata": {
  "kernelspec": {
   "display_name": "Python 3",
   "language": "python",
   "name": "python3"
  },
  "language_info": {
   "codemirror_mode": {
    "name": "ipython",
    "version": 3
   },
   "file_extension": ".py",
   "mimetype": "text/x-python",
   "name": "python",
   "nbconvert_exporter": "python",
   "pygments_lexer": "ipython3",
   "version": "3.6.8"
  }
 },
 "nbformat": 4,
 "nbformat_minor": 2
}
